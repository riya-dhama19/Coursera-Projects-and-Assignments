{
 "cells": [
  {
   "cell_type": "markdown",
   "metadata": {},
   "source": [
    "\n",
    "#                      Deep Learning Fundamentals - Logistic Regression\n",
    "\n",
    "# Task 1: Introduction"
   ]
  },
  {
   "cell_type": "code",
   "execution_count": 1,
   "metadata": {},
   "outputs": [
    {
     "name": "stderr",
     "output_type": "stream",
     "text": [
      "F:\\CONDA\\lib\\site-packages\\tensorflow\\python\\framework\\dtypes.py:516: FutureWarning: Passing (type, 1) or '1type' as a synonym of type is deprecated; in a future version of numpy, it will be understood as (type, (1,)) / '(1,)type'.\n",
      "  _np_qint8 = np.dtype([(\"qint8\", np.int8, 1)])\n",
      "F:\\CONDA\\lib\\site-packages\\tensorflow\\python\\framework\\dtypes.py:517: FutureWarning: Passing (type, 1) or '1type' as a synonym of type is deprecated; in a future version of numpy, it will be understood as (type, (1,)) / '(1,)type'.\n",
      "  _np_quint8 = np.dtype([(\"quint8\", np.uint8, 1)])\n",
      "F:\\CONDA\\lib\\site-packages\\tensorflow\\python\\framework\\dtypes.py:518: FutureWarning: Passing (type, 1) or '1type' as a synonym of type is deprecated; in a future version of numpy, it will be understood as (type, (1,)) / '(1,)type'.\n",
      "  _np_qint16 = np.dtype([(\"qint16\", np.int16, 1)])\n",
      "F:\\CONDA\\lib\\site-packages\\tensorflow\\python\\framework\\dtypes.py:519: FutureWarning: Passing (type, 1) or '1type' as a synonym of type is deprecated; in a future version of numpy, it will be understood as (type, (1,)) / '(1,)type'.\n",
      "  _np_quint16 = np.dtype([(\"quint16\", np.uint16, 1)])\n",
      "F:\\CONDA\\lib\\site-packages\\tensorflow\\python\\framework\\dtypes.py:520: FutureWarning: Passing (type, 1) or '1type' as a synonym of type is deprecated; in a future version of numpy, it will be understood as (type, (1,)) / '(1,)type'.\n",
      "  _np_qint32 = np.dtype([(\"qint32\", np.int32, 1)])\n",
      "F:\\CONDA\\lib\\site-packages\\tensorflow\\python\\framework\\dtypes.py:525: FutureWarning: Passing (type, 1) or '1type' as a synonym of type is deprecated; in a future version of numpy, it will be understood as (type, (1,)) / '(1,)type'.\n",
      "  np_resource = np.dtype([(\"resource\", np.ubyte, 1)])\n",
      "F:\\CONDA\\lib\\site-packages\\tensorboard\\compat\\tensorflow_stub\\dtypes.py:541: FutureWarning: Passing (type, 1) or '1type' as a synonym of type is deprecated; in a future version of numpy, it will be understood as (type, (1,)) / '(1,)type'.\n",
      "  _np_qint8 = np.dtype([(\"qint8\", np.int8, 1)])\n",
      "F:\\CONDA\\lib\\site-packages\\tensorboard\\compat\\tensorflow_stub\\dtypes.py:542: FutureWarning: Passing (type, 1) or '1type' as a synonym of type is deprecated; in a future version of numpy, it will be understood as (type, (1,)) / '(1,)type'.\n",
      "  _np_quint8 = np.dtype([(\"quint8\", np.uint8, 1)])\n",
      "F:\\CONDA\\lib\\site-packages\\tensorboard\\compat\\tensorflow_stub\\dtypes.py:543: FutureWarning: Passing (type, 1) or '1type' as a synonym of type is deprecated; in a future version of numpy, it will be understood as (type, (1,)) / '(1,)type'.\n",
      "  _np_qint16 = np.dtype([(\"qint16\", np.int16, 1)])\n",
      "F:\\CONDA\\lib\\site-packages\\tensorboard\\compat\\tensorflow_stub\\dtypes.py:544: FutureWarning: Passing (type, 1) or '1type' as a synonym of type is deprecated; in a future version of numpy, it will be understood as (type, (1,)) / '(1,)type'.\n",
      "  _np_quint16 = np.dtype([(\"quint16\", np.uint16, 1)])\n",
      "F:\\CONDA\\lib\\site-packages\\tensorboard\\compat\\tensorflow_stub\\dtypes.py:545: FutureWarning: Passing (type, 1) or '1type' as a synonym of type is deprecated; in a future version of numpy, it will be understood as (type, (1,)) / '(1,)type'.\n",
      "  _np_qint32 = np.dtype([(\"qint32\", np.int32, 1)])\n",
      "F:\\CONDA\\lib\\site-packages\\tensorboard\\compat\\tensorflow_stub\\dtypes.py:550: FutureWarning: Passing (type, 1) or '1type' as a synonym of type is deprecated; in a future version of numpy, it will be understood as (type, (1,)) / '(1,)type'.\n",
      "  np_resource = np.dtype([(\"resource\", np.ubyte, 1)])\n"
     ]
    },
    {
     "name": "stdout",
     "output_type": "stream",
     "text": [
      "Libraries imported\n"
     ]
    }
   ],
   "source": [
    "import random\n",
    "import numpy as np\n",
    "import warnings\n",
    "import helpers.plt, helpers.dataset\n",
    "from matplotlib import pyplot as plt\n",
    "%matplotlib inline\n",
    "warnings.filterwarnings('ignore')\n",
    "\n",
    "print('Libraries imported')"
   ]
  },
  {
   "cell_type": "markdown",
   "metadata": {},
   "source": [
    "# Task 2: Hyperparameters"
   ]
  },
  {
   "cell_type": "code",
   "execution_count": 2,
   "metadata": {
    "tags": [
     "parameters"
    ]
   },
   "outputs": [],
   "source": [
    "lr = 0.3\n",
    "batch_size = 300\n",
    "iterations = 40"
   ]
  },
  {
   "cell_type": "markdown",
   "metadata": {},
   "source": [
    "# Task 3: Dataset"
   ]
  },
  {
   "cell_type": "code",
   "execution_count": 3,
   "metadata": {},
   "outputs": [
    {
     "name": "stdout",
     "output_type": "stream",
     "text": [
      "Loading data..\n",
      "Downloading data from https://storage.googleapis.com/tensorflow/tf-keras-datasets/mnist.npz\n",
      "11493376/11490434 [==============================] - 2s 0us/step\n",
      "Done.\n"
     ]
    }
   ],
   "source": [
    "(X_train, Y_train), (X_test, Y_test) = helpers.dataset.get_data()"
   ]
  },
  {
   "cell_type": "code",
   "execution_count": 4,
   "metadata": {},
   "outputs": [
    {
     "name": "stdout",
     "output_type": "stream",
     "text": [
      "Shape of X_train: (12665, 28, 28)\n",
      "Shape of Y_train: (12665,)\n",
      "Shape of X_test: (2115, 28, 28)\n",
      "Shape of Y_test: (2115,)\n"
     ]
    }
   ],
   "source": [
    "print('Shape of X_train:', X_train.shape)\n",
    "print('Shape of Y_train:', Y_train.shape)\n",
    "print('Shape of X_test:', X_test.shape)\n",
    "print('Shape of Y_test:', Y_test.shape)"
   ]
  },
  {
   "cell_type": "code",
   "execution_count": 5,
   "metadata": {},
   "outputs": [
    {
     "data": {
      "image/png": "[encoded data removed]",
      "text/plain": [
       "<Figure size 432x288 with 1 Axes>"
      ]
     },
     "metadata": {},
     "output_type": "display_data"
    }
   ],
   "source": [
    "helpers.plt.show_example(X_train[0], Y_train[0])"
   ]
  },
  {
   "cell_type": "code",
   "execution_count": 6,
   "metadata": {},
   "outputs": [
    {
     "data": {
      "image/png": "[encoded data removed]",
      "text/plain": [
       "<Figure size 432x288 with 1 Axes>"
      ]
     },
     "metadata": {},
     "output_type": "display_data"
    }
   ],
   "source": [
    "helpers.plt.show_example(X_train[-1], Y_train[-1])"
   ]
  },
  {
   "cell_type": "markdown",
   "metadata": {},
   "source": [
    "# Task 4: A Mini Batch of Examples"
   ]
  },
  {
   "cell_type": "code",
   "execution_count": 7,
   "metadata": {},
   "outputs": [
    {
     "name": "stdout",
     "output_type": "stream",
     "text": [
      "X_batch shape (1, 784)\n"
     ]
    },
    {
     "data": {
      "image/png": "[encoded data removed]",
      "text/plain": [
       "<Figure size 432x288 with 1 Axes>"
      ]
     },
     "metadata": {},
     "output_type": "display_data"
    }
   ],
   "source": [
    "X_batch , Y_batch = helpers.dataset.get_random_batch(X_train, Y_train, 1)\n",
    "print(\"X_batch shape\", X_batch.shape)\n",
    "helpers.plt.show_example(X_batch[0], Y_batch[0])"
   ]
  },
  {
   "cell_type": "code",
   "execution_count": 11,
   "metadata": {},
   "outputs": [
    {
     "data": {
      "image/png": "[encoded data removed]",
      "text/plain": [
       "<Figure size 432x288 with 1 Axes>"
      ]
     },
     "metadata": {},
     "output_type": "display_data"
    }
   ],
   "source": [
    "X_batch , Y_batch = helpers.dataset.get_random_batch(X_test, Y_test, 1)\n",
    "#print(\"X_batch shape\", X_batch.shape)\n",
    "helpers.plt.show_example(X_batch[0], Y_batch[0])"
   ]
  },
  {
   "cell_type": "code",
   "execution_count": 8,
   "metadata": {},
   "outputs": [
    {
     "data": {
      "image/png": "[encoded data removed]",
      "text/plain": [
       "<Figure size 576x288 with 10 Axes>"
      ]
     },
     "metadata": {},
     "output_type": "display_data"
    }
   ],
   "source": [
    "X_batch , Y_batch = helpers.dataset.get_random_batch(X_train, Y_train,10)\n",
    "helpers.plt.show_ten_examples(X_batch, Y_batch, Y_batch)"
   ]
  },
  {
   "cell_type": "markdown",
   "metadata": {},
   "source": [
    "# Task 5: Create Model"
   ]
  },
  {
   "cell_type": "markdown",
   "metadata": {},
   "source": [
    "A logistic model is simply a multi variable linear equation which gives a binary output. The pixel values of our input images are going to be the input features - the independent variables that form the logistic regression equation. And the class label - either 0 or 1 in our case, is the output y."
   ]
  },
  {
   "cell_type": "markdown",
   "metadata": {},
   "source": [
    "\\begin{equation}\n",
    "z = b + w_1x_1 + w_2x_2 + ... + w_N * x_N\n",
    "\\end{equation}\n",
    "\n",
    "\\begin{equation}\n",
    "y = \\sigma(z)\n",
    "\\end{equation}\n",
    "\n",
    "To simplify, we can use vectorized represenation where X is the feature matrix and W is the weight matrix:\n",
    "\n",
    "\\begin{equation}\n",
    "y = \\sigma(W^T.X + b)\n",
    "\\end{equation}"
   ]
  },
  {
   "cell_type": "code",
   "execution_count": 9,
   "metadata": {},
   "outputs": [
    {
     "name": "stdout",
     "output_type": "stream",
     "text": [
      "=================================\n",
      "Number of features: 784\n",
      "Shape of weights: (784, 1)\n",
      "Shape of biases: (1, 1)\n",
      "=================================\n"
     ]
    }
   ],
   "source": [
    "class LogisticModel:\n",
    "    def __init__(self, num_features):\n",
    "        # Your code here\n",
    "        self.W = np.reshape(np.random.randn((num_features)),(num_features, 1))\n",
    "        self.b = np.zeros((1,1))\n",
    "        self.num_features = num_features\n",
    "        self.losses = []\n",
    "        self.accuracies = []\n",
    "        \n",
    "    def summary(self):\n",
    "        print('=================================')\n",
    "        print('Number of features:', self.num_features)\n",
    "        print('Shape of weights:', self.W.shape)\n",
    "        print('Shape of biases:', self.b.shape)\n",
    "        print('=================================')\n",
    "        \n",
    "# Your code here\n",
    "model = LogisticModel(num_features=784)\n",
    "model.summary()"
   ]
  },
  {
   "cell_type": "markdown",
   "metadata": {},
   "source": [
    "# Task 5: Forward Pass"
   ]
  },
  {
   "cell_type": "markdown",
   "metadata": {},
   "source": [
    "For a single training example, the loss should be:\n",
    "\n",
    "\\begin{equation}\n",
    "L(y, \\hat{y}) = -(y * log(\\hat{y}) + (1 - y) * log(1 - \\hat{y}))\n",
    "\\end{equation}"
   ]
  },
  {
   "cell_type": "code",
   "execution_count": 10,
   "metadata": {},
   "outputs": [],
   "source": [
    "class LogisticModel(LogisticModel):\n",
    "    def _forward_pass(self, X, Y=None):\n",
    "        # Your code here\n",
    "        batch_size = X.shape[0]\n",
    "        Z = np.dot(X,self.W) + self.b\n",
    "        A = 1./(1. + np.exp(-Z))\n",
    "        loss = float(1e6)\n",
    "        if Y is not None:\n",
    "            loss = -1 * np.sum(np.dot(np.transpose(Y), np.log(A)) + \\\n",
    "                        np.matmul(np.transpose(1-Y), np.log(1-A)))\n",
    "            loss /= batch_size\n",
    "            return A, loss"
   ]
  },
  {
   "cell_type": "markdown",
   "metadata": {},
   "source": [
    "# Task 6: Backward Pass"
   ]
  },
  {
   "cell_type": "code",
   "execution_count": 11,
   "metadata": {},
   "outputs": [],
   "source": [
    "class LogisticModel(LogisticModel):\n",
    "    def _backward_pass(self, A, X, Y):\n",
    "        # Your code here\n",
    "        batch_size = X.shape[0]\n",
    "        dZ = A - Y\n",
    "        dW = np.dot(np.transpose(X), dZ)/ batch_size\n",
    "        db = np.sum(dZ) / batch_size \n",
    "        return dW, db"
   ]
  },
  {
   "cell_type": "markdown",
   "metadata": {},
   "source": [
    "# Task 7: Update Parameters"
   ]
  },
  {
   "cell_type": "code",
   "execution_count": 12,
   "metadata": {},
   "outputs": [],
   "source": [
    "class LogisticModel(LogisticModel):\n",
    "    def _update_params(self, dW, db, lr):\n",
    "        # Your code here\n",
    "        self.W -= lr*dW\n",
    "        self.b -= lr*db\n",
    "        "
   ]
  },
  {
   "cell_type": "markdown",
   "metadata": {},
   "source": [
    "# Task 8: Check Model Performance"
   ]
  },
  {
   "cell_type": "code",
   "execution_count": 13,
   "metadata": {},
   "outputs": [],
   "source": [
    "class LogisticModel(LogisticModel):\n",
    "    def predict(self, X, Y=None):\n",
    "        # Your code here\n",
    "        A, loss = self._forward_pass(X, Y)\n",
    "        Y_hat = A > 0.5\n",
    "        return np.squeeze(Y_hat), loss\n",
    "    \n",
    "    def evaluate(self, X, Y):\n",
    "        # Your code here\n",
    "        Y_hat , loss = self.predict(X,Y)\n",
    "        accuracy = np.sum(Y_hat == np.squeeze(Y)) / X.shape[0]\n",
    "        return accuracy , loss"
   ]
  },
  {
   "cell_type": "code",
   "execution_count": 14,
   "metadata": {},
   "outputs": [
    {
     "name": "stdout",
     "output_type": "stream",
     "text": [
      "=================================\n",
      "Number of features: 784\n",
      "Shape of weights: (784, 1)\n",
      "Shape of biases: (1, 1)\n",
      "=================================\n",
      "Untrained model accuracy :0.54 , loss: 2.9268599934595696\n"
     ]
    }
   ],
   "source": [
    "model = LogisticModel(784)\n",
    "model.summary()\n",
    "\n",
    "X,Y = helpers.dataset.get_random_batch(X_test, Y_test,batch_size)\n",
    "acc , loss = model.evaluate(X,Y)\n",
    "print(\"Untrained model accuracy :{} , loss: {}\".format(acc, loss))"
   ]
  },
  {
   "cell_type": "markdown",
   "metadata": {},
   "source": [
    "# Task 9: Training Loop"
   ]
  },
  {
   "cell_type": "code",
   "execution_count": 16,
   "metadata": {},
   "outputs": [],
   "source": [
    "class LogisticModel(LogisticModel):\n",
    "    def train(self, batch_size, get_batch, lr, iterations, X_train, Y_train, X_test, Y_test):\n",
    "        # Your code here\n",
    "        print(\"Training...\")\n",
    "        self.accuracies = []\n",
    "        self.losses = []\n",
    "        for i in range(iterations):\n",
    "            X, Y = get_batch(X_train, Y_train, batch_size)\n",
    "            A , _ = self._forward_pass(X,Y)\n",
    "            dW , db = self._backward_pass(A,X,Y)\n",
    "            self._update_params(dW , db , lr)\n",
    "            \n",
    "            X,Y = get_batch(X_test,Y_test,batch_size)\n",
    "            val_acc , val_loss = self.evaluate(X,Y)\n",
    "            self.accuracies.append(val_acc)\n",
    "            self.losses.append(val_loss)\n",
    "            \n",
    "            print(\"iter :{}, val acc: {:.3f}, val loss: {:.3f}\".format(i,val_acc,val_loss))\n",
    "        print(\"Finish training\")    "
   ]
  },
  {
   "cell_type": "markdown",
   "metadata": {},
   "source": [
    "# Task 10: Training the Model"
   ]
  },
  {
   "cell_type": "code",
   "execution_count": 17,
   "metadata": {},
   "outputs": [
    {
     "name": "stdout",
     "output_type": "stream",
     "text": [
      "b4 :  (0.3233333333333333, 4.008902410826258)\n",
      "Training...\n",
      "iter :0, val acc: 0.480, val loss: 2.799\n",
      "iter :1, val acc: 0.557, val loss: 1.906\n",
      "iter :2, val acc: 0.693, val loss: 1.278\n",
      "iter :3, val acc: 0.733, val loss: 1.049\n",
      "iter :4, val acc: 0.790, val loss: 0.762\n",
      "iter :5, val acc: 0.837, val loss: 0.565\n",
      "iter :6, val acc: 0.837, val loss: 0.612\n",
      "iter :7, val acc: 0.927, val loss: 0.296\n",
      "iter :8, val acc: 0.923, val loss: 0.233\n",
      "iter :9, val acc: 0.893, val loss: 0.315\n",
      "iter :10, val acc: 0.917, val loss: 0.276\n",
      "iter :11, val acc: 0.917, val loss: 0.316\n",
      "iter :12, val acc: 0.950, val loss: 0.113\n",
      "iter :13, val acc: 0.930, val loss: 0.203\n",
      "iter :14, val acc: 0.957, val loss: 0.101\n",
      "iter :15, val acc: 0.950, val loss: 0.158\n",
      "iter :16, val acc: 0.973, val loss: 0.105\n",
      "iter :17, val acc: 0.920, val loss: 0.252\n",
      "iter :18, val acc: 0.960, val loss: 0.178\n",
      "iter :19, val acc: 0.963, val loss: 0.112\n",
      "iter :20, val acc: 0.973, val loss: 0.106\n",
      "iter :21, val acc: 0.967, val loss: 0.151\n",
      "iter :22, val acc: 0.990, val loss: 0.041\n",
      "iter :23, val acc: 0.963, val loss: 0.096\n",
      "iter :24, val acc: 0.950, val loss: 0.147\n",
      "iter :25, val acc: 0.977, val loss: 0.107\n",
      "iter :26, val acc: 0.957, val loss: 0.165\n",
      "iter :27, val acc: 0.980, val loss: 0.053\n",
      "iter :28, val acc: 0.983, val loss: 0.070\n",
      "iter :29, val acc: 0.977, val loss: 0.082\n",
      "iter :30, val acc: 0.967, val loss: 0.153\n",
      "iter :31, val acc: 0.973, val loss: 0.086\n",
      "iter :32, val acc: 0.967, val loss: 0.115\n",
      "iter :33, val acc: 0.990, val loss: 0.039\n",
      "iter :34, val acc: 0.967, val loss: 0.123\n",
      "iter :35, val acc: 0.970, val loss: 0.134\n",
      "iter :36, val acc: 0.987, val loss: 0.041\n",
      "iter :37, val acc: 0.970, val loss: 0.135\n",
      "iter :38, val acc: 0.973, val loss: 0.074\n",
      "iter :39, val acc: 0.970, val loss: 0.127\n",
      "Finish training\n",
      "after : (0.97, 0.06801224997543255)\n"
     ]
    }
   ],
   "source": [
    "model = LogisticModel(784)\n",
    "X,Y = helpers.dataset.get_random_batch(X_test,Y_test,batch_size)\n",
    "print(\"b4 : \", model.evaluate(X,Y))\n",
    "\n",
    "model.train(batch_size, helpers.dataset.get_random_batch, lr, iterations, X_train, Y_train, X_test, Y_test)\n",
    "\n",
    "print(\"after :\", model.evaluate(X,Y))"
   ]
  },
  {
   "cell_type": "markdown",
   "metadata": {},
   "source": [
    "# Task 11: Display the Results"
   ]
  },
  {
   "cell_type": "code",
   "execution_count": 18,
   "metadata": {},
   "outputs": [
    {
     "data": {
      "image/png": "[encoded data removed]",
      "text/plain": [
       "<Figure size 864x288 with 2 Axes>"
      ]
     },
     "metadata": {
      "needs_background": "light"
     },
     "output_type": "display_data"
    }
   ],
   "source": [
    "helpers.plt.plot_metrics(model)"
   ]
  },
  {
   "cell_type": "code",
   "execution_count": 19,
   "metadata": {},
   "outputs": [
    {
     "data": {
      "image/png": "[encoded data removed]",
      "text/plain": [
       "<Figure size 576x288 with 10 Axes>"
      ]
     },
     "metadata": {},
     "output_type": "display_data"
    }
   ],
   "source": [
    "preds, _ = model.predict(X,Y)\n",
    "helpers.plt.show_ten_examples(X,Y, preds)"
   ]
  },
  {
   "cell_type": "code",
   "execution_count": null,
   "metadata": {},
   "outputs": [],
   "source": []
  }
 ],
 "metadata": {
  "kernelspec": {
   "display_name": "Python 3",
   "language": "python",
   "name": "python3"
  },
  "language_info": {
   "codemirror_mode": {
    "name": "ipython",
    "version": 3
   },
   "file_extension": ".py",
   "mimetype": "text/x-python",
   "name": "python",
   "nbconvert_exporter": "python",
   "pygments_lexer": "ipython3",
   "version": "3.7.6"
  }
 },
 "nbformat": 4,
 "nbformat_minor": 2
}
